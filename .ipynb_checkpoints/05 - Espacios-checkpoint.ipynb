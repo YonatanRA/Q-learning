{
 "cells": [
  {
   "cell_type": "markdown",
   "metadata": {},
   "source": [
    "# Espacios\n",
    "\n",
    "Se definen los espacios, en sentido matemático, para las observaciones y las acciones en cada uno de los entornos (cada entorno es diferente).\n",
    "\n",
    "**Ejemplos**\n",
    "\n",
    "+ **Box:**\n",
    "\n",
    "Una caja n-dimensional, en el espacio ${\\rm I\\!R}^{n}$. Cada coordenada viene definida en el intervalo [low, high]. Código:  _gym.spaces.Box(low=-100, high=100, shape=(2,))_\n",
    "\n",
    "\n",
    "+ **Discrete:**\n",
    "\n",
    "Valores discretos en el intervalo [0, n-1]. Código:  _gym.spaces.Discrete(4)_\n",
    "\n",
    "\n",
    "+ **Dict:**\n",
    "\n",
    "Creación del espacio en forma de diccionario, forma key-value. Código:  _gym.spaces.Dict({'position':gym.spaces.Discrete(4),'velocity':gym.spaces.Discrete(4)})_"
   ]
  },
  {
   "cell_type": "code",
   "execution_count": null,
   "metadata": {},
   "outputs": [],
   "source": []
  },
  {
   "cell_type": "code",
   "execution_count": null,
   "metadata": {},
   "outputs": [],
   "source": []
  },
  {
   "cell_type": "code",
   "execution_count": null,
   "metadata": {},
   "outputs": [],
   "source": []
  },
  {
   "cell_type": "code",
   "execution_count": null,
   "metadata": {},
   "outputs": [],
   "source": []
  },
  {
   "cell_type": "code",
   "execution_count": null,
   "metadata": {},
   "outputs": [],
   "source": []
  }
 ],
 "metadata": {
  "kernelspec": {
   "display_name": "Python 3",
   "language": "python",
   "name": "python3"
  },
  "language_info": {
   "codemirror_mode": {
    "name": "ipython",
    "version": 3
   },
   "file_extension": ".py",
   "mimetype": "text/x-python",
   "name": "python",
   "nbconvert_exporter": "python",
   "pygments_lexer": "ipython3",
   "version": "3.7.6"
  }
 },
 "nbformat": 4,
 "nbformat_minor": 2
}
