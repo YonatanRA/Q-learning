{
 "cells": [
  {
   "cell_type": "markdown",
   "metadata": {},
   "source": [
    "# Espacios\n",
    "\n",
    "Se definen los espacios, en sentido matemático, para las observaciones y las acciones en cada uno de los entornos (cada entorno es diferente).\n",
    "\n",
    "**Ejemplos**\n",
    "\n",
    "+ **Box:**\n",
    "\n",
    "Una caja n-dimensional, en el espacio ${\\rm I\\!R}^{n}$. Cada coordenada viene definida en el intervalo [low, high]. Código:  _gym.spaces.Box(low=-100, high=100, shape=(2,))_\n",
    "\n",
    "\n",
    "+ **Discrete:**\n",
    "\n",
    "Valores discretos en el intervalo [0, n-1]. Código:  _gym.spaces.Discrete(4)_\n",
    "\n",
    "\n",
    "+ **Dict:**\n",
    "\n",
    "Creación del espacio en forma de diccionario, forma key-value. Código:  _gym.spaces.Dict({'position':gym.spaces.Discrete(4),'velocity':gym.spaces.Discrete(4)})_\n",
    "\n",
    "\n",
    "+ **MultiBinary:**\n",
    "\n",
    "Espacio binario multidimensional. Código:  _gym.spaces.MultiBinary(4)_\n",
    "\n",
    "\n",
    "+ **MultiDiscrete:**\n",
    "\n",
    "Valores discretos en un espacio multidimensional. Código:  _gym.spaces.MultiDiscrete([-10, 10],[0, 1])_\n",
    "\n",
    "\n",
    "+ **Tuple:**\n",
    "\n",
    "Producto de espacios más simples. Código:  _gym.spaces.Tuple((gym.spaces.Discrete(4),gym.spaces.Discrete(4)))_"
   ]
  },
  {
   "cell_type": "code",
   "execution_count": 2,
   "metadata": {},
   "outputs": [],
   "source": [
    "import gym\n",
    "from gym.spaces import *"
   ]
  },
  {
   "cell_type": "code",
   "execution_count": 3,
   "metadata": {},
   "outputs": [],
   "source": [
    "def espacios(esp):\n",
    "    print(esp)\n",
    "    if isinstance(esp, Box): # intervalo coordenada Box\n",
    "        print('\\n Limite inferior: {}'.format(esp.low))\n",
    "        print('\\n Limite superior: {}'.format(esp.high))"
   ]
  },
  {
   "cell_type": "code",
   "execution_count": 7,
   "metadata": {},
   "outputs": [
    {
     "name": "stdout",
     "output_type": "stream",
     "text": [
      "Espacio de observacion:\n",
      "Box(24,)\n",
      "\n",
      " Limite inferior: [-inf -inf -inf -inf -inf -inf -inf -inf -inf -inf -inf -inf -inf -inf\n",
      " -inf -inf -inf -inf -inf -inf -inf -inf -inf -inf]\n",
      "\n",
      " Limite superior: [inf inf inf inf inf inf inf inf inf inf inf inf inf inf inf inf inf inf\n",
      " inf inf inf inf inf inf]\n",
      "Espacio de accion:\n",
      "Box(4,)\n",
      "\n",
      " Limite inferior: [-1. -1. -1. -1.]\n",
      "\n",
      " Limite superior: [1. 1. 1. 1.]\n"
     ]
    }
   ],
   "source": [
    "if __name__=='__main__':\n",
    "    entorno=gym.make('BipedalWalker-v2')\n",
    "    \n",
    "    print ('Espacio de observacion:')\n",
    "    espacios(entorno.observation_space)\n",
    "    print ('Espacio de accion:')\n",
    "    espacios(entorno.action_space)\n",
    "    \n",
    "    try:\n",
    "        print ('Descripcion/significado de la accion: {}'.format(entorno.unwrapped.get_action.meanings()))\n",
    "    except AttributeError:\n",
    "        pass"
   ]
  },
  {
   "cell_type": "code",
   "execution_count": null,
   "metadata": {},
   "outputs": [],
   "source": []
  },
  {
   "cell_type": "code",
   "execution_count": null,
   "metadata": {},
   "outputs": [],
   "source": []
  }
 ],
 "metadata": {
  "kernelspec": {
   "display_name": "Python 3",
   "language": "python",
   "name": "python3"
  },
  "language_info": {
   "codemirror_mode": {
    "name": "ipython",
    "version": 3
   },
   "file_extension": ".py",
   "mimetype": "text/x-python",
   "name": "python",
   "nbconvert_exporter": "python",
   "pygments_lexer": "ipython3",
   "version": "3.7.6"
  }
 },
 "nbformat": 4,
 "nbformat_minor": 2
}
