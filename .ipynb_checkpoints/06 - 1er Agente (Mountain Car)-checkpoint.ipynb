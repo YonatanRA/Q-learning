{
 "cells": [
  {
   "cell_type": "markdown",
   "metadata": {},
   "source": [
    "# Mountain Car"
   ]
  },
  {
   "cell_type": "markdown",
   "metadata": {},
   "source": [
    "#### Descripcion \n",
    "\n",
    "\n",
    "+ **Espacio de observacion (Box(2,))**\n",
    "\n",
    "+ Posicion: [-1.2, 0.6]\n",
    "+ Velocidad: [-0.07, 0.07]\n",
    "\n",
    "\n",
    "+ **Espacio de accion (Discrete(3))**\n",
    "\n",
    "+ Izquierda: 0\n",
    "+ No hacer nada: 1\n",
    "+ Derecha: 2\n",
    "\n",
    "\n",
    "El objetivo es llevar el coche hasta la posicion 0.5\n",
    "\n",
    "Para cada paso temporal que el coche no este en esa posicion, la recompensa sera -1."
   ]
  },
  {
   "cell_type": "code",
   "execution_count": 1,
   "metadata": {},
   "outputs": [],
   "source": [
    "# primero test aleatorio\n",
    "\n",
    "import gym"
   ]
  },
  {
   "cell_type": "code",
   "execution_count": 2,
   "metadata": {},
   "outputs": [],
   "source": [
    "entorno=gym.make('MountainCar-v0')"
   ]
  },
  {
   "cell_type": "code",
   "execution_count": 3,
   "metadata": {},
   "outputs": [],
   "source": [
    "MAX_NUM_EPISODIOS=10"
   ]
  },
  {
   "cell_type": "code",
   "execution_count": 4,
   "metadata": {},
   "outputs": [
    {
     "name": "stdout",
     "output_type": "stream",
     "text": [
      "\n",
      "Episodio #1 finalizado en 200 pasos. Recompensa total:-200.0\n",
      "\n",
      "Episodio #2 finalizado en 200 pasos. Recompensa total:-200.0\n",
      "\n",
      "Episodio #3 finalizado en 200 pasos. Recompensa total:-200.0\n",
      "\n",
      "Episodio #4 finalizado en 200 pasos. Recompensa total:-200.0\n",
      "\n",
      "Episodio #5 finalizado en 200 pasos. Recompensa total:-200.0\n",
      "\n",
      "Episodio #6 finalizado en 200 pasos. Recompensa total:-200.0\n",
      "\n",
      "Episodio #7 finalizado en 200 pasos. Recompensa total:-200.0\n",
      "\n",
      "Episodio #8 finalizado en 200 pasos. Recompensa total:-200.0\n",
      "\n",
      "Episodio #9 finalizado en 200 pasos. Recompensa total:-200.0\n",
      "\n",
      "Episodio #10 finalizado en 200 pasos. Recompensa total:-200.0\n"
     ]
    }
   ],
   "source": [
    "for episodio in range(MAX_NUM_EPISODIOS):\n",
    "    \n",
    "    done=False\n",
    "    \n",
    "    observacion=entorno.reset()  # observacion\n",
    "    \n",
    "    recompensa_total=0.          # recompensa total en cada episodio\n",
    "    \n",
    "    paso=0                       # paso en cada episodio\n",
    "     \n",
    "    while not done:\n",
    "        entorno.render()  # muestra el entorno\n",
    "        \n",
    "        accion=entorno.action_space.sample() # accion aleatoria, se cambiara por el agente\n",
    "        \n",
    "        siguiente_estado, recompensa, done, info=entorno.step(accion)\n",
    "        \n",
    "        recompensa_total+=recompensa\n",
    "        \n",
    "        paso+=1\n",
    "        \n",
    "        observacion=siguiente_estado\n",
    "        \n",
    "    print ('\\nEpisodio #{} finalizado en {} pasos. Recompensa total:{}'.format(episodio+1, paso, recompensa_total))\n",
    "    \n",
    "entorno.close()"
   ]
  },
  {
   "cell_type": "code",
   "execution_count": null,
   "metadata": {},
   "outputs": [],
   "source": []
  },
  {
   "cell_type": "code",
   "execution_count": null,
   "metadata": {},
   "outputs": [],
   "source": []
  }
 ],
 "metadata": {
  "kernelspec": {
   "display_name": "Python 3",
   "language": "python",
   "name": "python3"
  },
  "language_info": {
   "codemirror_mode": {
    "name": "ipython",
    "version": 3
   },
   "file_extension": ".py",
   "mimetype": "text/x-python",
   "name": "python",
   "nbconvert_exporter": "python",
   "pygments_lexer": "ipython3",
   "version": "3.7.6"
  }
 },
 "nbformat": 4,
 "nbformat_minor": 2
}
