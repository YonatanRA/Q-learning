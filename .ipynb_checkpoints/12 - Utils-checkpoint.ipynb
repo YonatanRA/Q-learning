{
 "cells": [
  {
   "cell_type": "markdown",
   "metadata": {},
   "source": [
    "# Herramientas para creacion de agente DQL con red convolucional"
   ]
  },
  {
   "cell_type": "markdown",
   "metadata": {},
   "source": [
    "Vamos a crear algunas herramientas para un agente con una red neuronal convolucional que sea capaz de reconocer imagenes como datos de entrada. Entrenaremos al agente con juegos de Atari.\n",
    "\n",
    "Empezaremos implementando la red convolucional con Torch de 3 capas."
   ]
  },
  {
   "cell_type": "code",
   "execution_count": 1,
   "metadata": {},
   "outputs": [],
   "source": [
    "import torch"
   ]
  },
  {
   "cell_type": "code",
   "execution_count": 2,
   "metadata": {},
   "outputs": [],
   "source": [
    "class CNN(torch.nn.Module):\n",
    "    \n",
    "    def __init__(self, dim_entrada, dim_salida, device='cpu'): # device=cpu o cuda\n",
    "        \n",
    "        super(CNN, self).__init__()\n",
    "        \n",
    "        self.device=device\n",
    "        \n",
    "        self.capa1=torch.nn.Sequential(\n",
    "                    torch.nn.Conv2d(dim_entrad[0],\n",
    "                                    64,\n",
    "                                    kernel_size=4,\n",
    "                                    stride=2,\n",
    "                                    padding=1),\n",
    "                    torch.nn.ReLU())\n",
    "        \n",
    "        \n",
    "        self.capa2=torch.nn.Sequential(\n",
    "                    torch.nn.Conv2d(64,\n",
    "                                    32,\n",
    "                                    kernel_size=4,\n",
    "                                    stride=2,\n",
    "                                    padding=0),\n",
    "                    torch.nn.ReLU())\n",
    "        \n",
    "        \n",
    "        self.capa3=torch.nn.Sequential(\n",
    "                    torch.nn.Conv2d(32,\n",
    "                                    32,\n",
    "                                    kernel_size=3,\n",
    "                                    stride=2,\n",
    "                                    padding=0),\n",
    "                    torch.nn.ReLU())\n",
    "        \n",
    "        self.salida=torch.nn.Linear(18*18*32, dim_salida)\n",
    "        \n",
    "       \n",
    "    \n",
    "    \n",
    "    def forward(self, x):\n",
    "        \n",
    "        x=torch.from_numpy(x).float().to(self.device)\n",
    "        x=self.capa1(x)\n",
    "        x=self.capa2(x)\n",
    "        x=self.capa3(x)\n",
    "        x=x.view(x.shape[0], -1)\n",
    "        x=self.salida(x)\n",
    "        return x"
   ]
  },
  {
   "cell_type": "markdown",
   "metadata": {},
   "source": [
    "Podriamos añadir mas capas a la red.\n",
    "\n",
    "Ahora que hemos creado la red convolucional, vamos a crear un controlador de hiperparametros a traves de un JSON, siendo de esta manera mas facil manejar la red."
   ]
  },
  {
   "cell_type": "code",
   "execution_count": null,
   "metadata": {},
   "outputs": [],
   "source": []
  },
  {
   "cell_type": "code",
   "execution_count": null,
   "metadata": {},
   "outputs": [],
   "source": []
  },
  {
   "cell_type": "code",
   "execution_count": null,
   "metadata": {},
   "outputs": [],
   "source": []
  },
  {
   "cell_type": "code",
   "execution_count": null,
   "metadata": {},
   "outputs": [],
   "source": []
  },
  {
   "cell_type": "code",
   "execution_count": null,
   "metadata": {},
   "outputs": [],
   "source": []
  },
  {
   "cell_type": "code",
   "execution_count": null,
   "metadata": {},
   "outputs": [],
   "source": []
  },
  {
   "cell_type": "code",
   "execution_count": null,
   "metadata": {},
   "outputs": [],
   "source": []
  }
 ],
 "metadata": {
  "kernelspec": {
   "display_name": "Python 3",
   "language": "python",
   "name": "python3"
  },
  "language_info": {
   "codemirror_mode": {
    "name": "ipython",
    "version": 3
   },
   "file_extension": ".py",
   "mimetype": "text/x-python",
   "name": "python",
   "nbconvert_exporter": "python",
   "pygments_lexer": "ipython3",
   "version": "3.8.2"
  }
 },
 "nbformat": 4,
 "nbformat_minor": 4
}
