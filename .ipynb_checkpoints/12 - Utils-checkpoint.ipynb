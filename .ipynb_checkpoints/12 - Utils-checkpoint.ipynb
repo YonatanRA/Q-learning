{
 "cells": [
  {
   "cell_type": "markdown",
   "metadata": {},
   "source": [
    "# Herramientas para creacion de agente DQL con red convolucional"
   ]
  },
  {
   "cell_type": "markdown",
   "metadata": {},
   "source": [
    "Vamos a crear algunas herramientas para un agente con una red neuronal convolucional que sea capaz de reconocer imagenes como datos de entrada. Entrenaremos al agente con juegos de Atari, por lo que tambien crearemos las herramientas del entorno.\n",
    "\n",
    "Recordemos primero el decay."
   ]
  },
  {
   "cell_type": "code",
   "execution_count": 1,
   "metadata": {},
   "outputs": [],
   "source": [
    "class DecayLineal(object):\n",
    "    def __init__(self, valor_ini, valor_final, pasos_max):\n",
    "        assert valor_ini>valor_final, 'valor inicial > valor final'\n",
    "        self.valor_ini=valor_ini\n",
    "        self.valor_final=valor_final\n",
    "        self.decay=(valor_ini-valor_final)/pasos_max\n",
    "\n",
    "    def __call__(self, num_pasos):\n",
    "        valor_actual=self.valor_ini-self.decay*num_pasos\n",
    "        if valor_actual<self.valor_final:\n",
    "            valor_actual=self.valor_final\n",
    "        return valor_actual"
   ]
  },
  {
   "cell_type": "markdown",
   "metadata": {},
   "source": [
    "Seguiremos implementando la red convolucional con Torch de 3 capas."
   ]
  },
  {
   "cell_type": "code",
   "execution_count": 2,
   "metadata": {},
   "outputs": [],
   "source": [
    "import torch"
   ]
  },
  {
   "cell_type": "code",
   "execution_count": 3,
   "metadata": {},
   "outputs": [],
   "source": [
    "class CNN(torch.nn.Module):\n",
    "    \n",
    "    def __init__(self, dim_entrada, dim_salida, device='cpu'): # device=cpu o cuda\n",
    "        \n",
    "        super(CNN, self).__init__()\n",
    "        \n",
    "        self.device=device\n",
    "        \n",
    "        self.capa1=torch.nn.Sequential(\n",
    "                    torch.nn.Conv2d(dim_entrad[0],\n",
    "                                    64,\n",
    "                                    kernel_size=4,\n",
    "                                    stride=2,\n",
    "                                    padding=1),\n",
    "                    torch.nn.ReLU())\n",
    "        \n",
    "        \n",
    "        self.capa2=torch.nn.Sequential(\n",
    "                    torch.nn.Conv2d(64,\n",
    "                                    32,\n",
    "                                    kernel_size=4,\n",
    "                                    stride=2,\n",
    "                                    padding=0),\n",
    "                    torch.nn.ReLU())\n",
    "        \n",
    "        \n",
    "        self.capa3=torch.nn.Sequential(\n",
    "                    torch.nn.Conv2d(32,\n",
    "                                    32,\n",
    "                                    kernel_size=3,\n",
    "                                    stride=2,\n",
    "                                    padding=0),\n",
    "                    torch.nn.ReLU())\n",
    "        \n",
    "        self.salida=torch.nn.Linear(18*18*32, dim_salida)\n",
    "        \n",
    "       \n",
    "    \n",
    "    \n",
    "    def forward(self, x):\n",
    "        \n",
    "        x=torch.from_numpy(x).float().to(self.device)\n",
    "        x=self.capa1(x)\n",
    "        x=self.capa2(x)\n",
    "        x=self.capa3(x)\n",
    "        x=x.view(x.shape[0], -1)\n",
    "        x=self.salida(x)\n",
    "        return x"
   ]
  },
  {
   "cell_type": "markdown",
   "metadata": {},
   "source": [
    "Podriamos añadir mas capas a la red.\n",
    "\n",
    "Ahora que hemos creado la red convolucional, vamos a crear un controlador de hiperparametros a traves de un JSON, siendo de esta manera mas facil manejar la red."
   ]
  },
  {
   "cell_type": "code",
   "execution_count": 4,
   "metadata": {},
   "outputs": [],
   "source": [
    "import json"
   ]
  },
  {
   "cell_type": "code",
   "execution_count": 5,
   "metadata": {},
   "outputs": [],
   "source": [
    "class ParamControl(object):\n",
    "    \n",
    "    def __init__(self, archivo): # archivo json, path\n",
    "        \n",
    "        self.params=json.load(open(archivo, 'r'))\n",
    "        \n",
    "        \n",
    "    def parametros(self):\n",
    "        return self.params\n",
    "    \n",
    "    \n",
    "    def param_entorno(self):\n",
    "        return self.params['env']\n",
    "      \n",
    "        \n",
    "    def param_agente(self):\n",
    "        return self.params['agent']\n",
    "    \n",
    "    \n",
    "    def actualiza_param_agente(self, **kwargs):\n",
    "        for k,v in kwargs.items():\n",
    "            if k in self.params.keys():\n",
    "                self.params['agent'][k]=v\n",
    "            \n",
    "            \n",
    "    def exporta_param_entorno(self, archivo):\n",
    "        with open(archivo, 'w') as f:\n",
    "            json.dump(self.params['env'], f, indent=4, separators=(',',': '), sort_keys=True)\n",
    "            f.write('\\n')\n",
    "\n",
    "            \n",
    "    def exporta_param_agente(self, archivo):\n",
    "        with open(archivo, 'w') as f:\n",
    "            json.dump(self.params['agent'], f, indent=4, separators=(',', ': '), sort_keys=True)\n",
    "            f.write('\\n')"
   ]
  },
  {
   "cell_type": "markdown",
   "metadata": {},
   "source": [
    "Ahora implementaremos un perceptron de una capa."
   ]
  },
  {
   "cell_type": "code",
   "execution_count": 6,
   "metadata": {},
   "outputs": [],
   "source": [
    "class Perceptron(torch.nn.Module):\n",
    "\n",
    "    def __init__(self, dim_entrada, dim_salida, device=torch.device('cpu')):\n",
    "\n",
    "        super(Perceptron, self).__init__()\n",
    "        self.device=device\n",
    "        self.dim_entrada=dim_entrada[0]\n",
    "        self.dim_oculta=40\n",
    "        self.linear=torch.nn.Linear(self.dim_entrada, self.dim_oculta)\n",
    "        self.salida=torch.nn.Linear(self.dim_oculta, dim_salida)\n",
    "\n",
    "    def forward(self, x):\n",
    "        x=torch.from_numpy(x).float().to(self.device)\n",
    "        x=torch.nn.functional.relu(self.linear(x))\n",
    "        x=self.salida(x)\n",
    "        return x"
   ]
  },
  {
   "cell_type": "markdown",
   "metadata": {},
   "source": [
    "Replay de la experiencia."
   ]
  },
  {
   "cell_type": "code",
   "execution_count": 7,
   "metadata": {},
   "outputs": [],
   "source": [
    "from collections import namedtuple\n",
    "\n",
    "Experiencia=namedtuple('Experiencia', ['obs', 'action', 'reward', 'next_obs', 'done'])"
   ]
  },
  {
   "cell_type": "code",
   "execution_count": 8,
   "metadata": {},
   "outputs": [],
   "source": [
    "class Memoria(object):\n",
    "    '''\n",
    "    Implementacion de un buffer ciclico basado en la memoria de la experiencia\n",
    "    '''\n",
    "    def __init__(self, capacidad=int(1e6)):\n",
    "        \"\"\"\n",
    "        capacidad: Max numero de experiencias\n",
    "        \"\"\"\n",
    "        self.capacidad=capacidad\n",
    "        self.mem_idx=0  # Indice de la experiencia actual\n",
    "        self.memoria=[]\n",
    "\n",
    "        \n",
    "    def guarda(self, experiencia):\n",
    "        '''\n",
    "        experiencia: el objeto a ser guardado en memoria\n",
    "        '''\n",
    "        if self.mem_idx<self.capacidad:\n",
    "            # Extiende la memoria y crea un espacio\n",
    "            self.memoria.append(None)\n",
    "        self.memoria[self.mem_idx%self.capacidad]=experiencia\n",
    "        self.mem_idx+=1\n",
    "\n",
    "        \n",
    "    def muestra(self, batch_size):\n",
    "        '''\n",
    "        batch_size:  tamaño de la muestra\n",
    "        '''\n",
    "        assert batch_size<=len(self.memoria), 'El tamaño de la muestra esta disponible en memoria.'\n",
    "        \n",
    "        # se devuelve una lista de experiencias con muestreo aleatorio\n",
    "        return random.sample(self.memoria, batch_size)\n",
    "\n",
    "    \n",
    "    def tamaño_muestra(self):\n",
    "        return len(self.memoria) # numero de experiencias guardadas en memoria"
   ]
  },
  {
   "cell_type": "markdown",
   "metadata": {},
   "source": [
    "Inicializa los pesos con el metodo Xavier. (Xavier Glorot, Yoshua Bengio, \"Understanding the\n",
    "difficulty of training deep feedforward neural networks\").                      "
   ]
  },
  {
   "cell_type": "code",
   "execution_count": 9,
   "metadata": {},
   "outputs": [],
   "source": [
    "def xavier(m):\n",
    "    if isinstance(m, torch.nn.Conv2d) or isinstance(m, torch.nn.Linear):\n",
    "        torch.nn.init.xavier_normal_(m.weight)"
   ]
  },
  {
   "cell_type": "code",
   "execution_count": null,
   "metadata": {},
   "outputs": [],
   "source": []
  }
 ],
 "metadata": {
  "kernelspec": {
   "display_name": "Python 3",
   "language": "python",
   "name": "python3"
  },
  "language_info": {
   "codemirror_mode": {
    "name": "ipython",
    "version": 3
   },
   "file_extension": ".py",
   "mimetype": "text/x-python",
   "name": "python",
   "nbconvert_exporter": "python",
   "pygments_lexer": "ipython3",
   "version": "3.8.2"
  }
 },
 "nbformat": 4,
 "nbformat_minor": 4
}
