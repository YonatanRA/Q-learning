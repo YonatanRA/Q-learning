{
 "cells": [
  {
   "cell_type": "markdown",
   "metadata": {},
   "source": [
    "# Cart Pole"
   ]
  },
  {
   "cell_type": "markdown",
   "metadata": {},
   "source": [
    "#### Descripcion \n",
    "\n",
    "\n",
    "+ **Espacio de observacion (Box(4,))**\n",
    "\n",
    "+ Posicion del carro: [-2.4, 2.4]\n",
    "+ Velocidad del carro: [$-\\infty$, $\\infty$]\n",
    "+ Angulo del palo: [-41.8, 41.8]\n",
    "+ Velocidad del palo en la punta: [$-\\infty$, $\\infty$]\n",
    "\n",
    "\n",
    "+ **Espacio de accion (Discrete(2))**\n",
    "\n",
    "+ Izquierda: 0\n",
    "+ Derecha: 1\n",
    "\n",
    "\n",
    "El objetivo es mantener el palo vertical moviendo a izquierda y derecha el carro.\n",
    "\n",
    "\n",
    "La recompensa es +1 para cada paso temporal. El episodio se termina si el angulo es mayor a $\\pm 12$ grados o si el carro sobrepasa la posicion $\\pm 2.4$"
   ]
  },
  {
   "cell_type": "markdown",
   "metadata": {},
   "source": [
    "**Ahora usaremos Keras para crear el agente**"
   ]
  },
  {
   "cell_type": "code",
   "execution_count": 1,
   "metadata": {},
   "outputs": [],
   "source": [
    "# pip3 install keras-rl"
   ]
  },
  {
   "cell_type": "code",
   "execution_count": 3,
   "metadata": {},
   "outputs": [],
   "source": [
    "# librerias\n",
    "\n",
    "import gym\n",
    "import numpy as np\n",
    "from keras.layers import Dense, Flatten\n",
    "from keras.models import Sequential\n",
    "from keras.optimizers import Adam\n",
    "\n",
    "from rl.agents import SARSAAgent\n",
    "from rl.policy import EpsGreedyQPolicy\n",
    "\n",
    "import warnings\n",
    "warnings.simplefilter('ignore')"
   ]
  },
  {
   "cell_type": "markdown",
   "metadata": {},
   "source": [
    "### Agente\n",
    "\n",
    "En este vamos caso a crear un agente basado en el algoritmo SARSA (state-action-reward-state-action). Dicho algoritmo tiene la ecuacion:\n",
    "\n",
    "$$Q_{nueva}(e_{t}, a_{t})=(1-\\alpha)·Q(e_{t}, a_{t}) + \\alpha·[r_{t} + \\gamma·Q(e_{t+1}, a_{t+1})]$$\n",
    "\n",
    "\n",
    "donde:\n",
    "+ $e_{t}$ es el estado en el tiempo t\n",
    "+ $a_{t}$ es la accion en el tiempo t\n",
    "+ $\\alpha$ es la tasa de aprendizaje $(0<\\alpha \\leq{1})$\n",
    "+ $Q(e_{t}, a_{t})$ es el viejo valor de calidad\n",
    "+ $[r_{t} + \\gamma·Q(e_{t+1}, a_{t+1})]$ es el valor aprendido\n",
    "+ $r_{t}$ es la recompensa recibida al pasar del estado $e_{t}$ al estado $e_{t+1}$\n",
    "+ $\\gamma$ es el factor de descuento $(0\\leq \\gamma \\leq 1)$. Evalua las recompensas recibidas anteriormente con un valor mayor que las recibidas posteriormente, se puede interpretar como la probabilidad de tener exito (o sobrevivir) en cada paso temporal+ $\\max_{a}Q(e_{t+1}, a_{t+1})$ es la estimacion del valor optimo futuro"
   ]
  },
  {
   "cell_type": "code",
   "execution_count": null,
   "metadata": {},
   "outputs": [],
   "source": [
    "class Agente(object):\n",
    "    \n",
    "    def _init__(self, entorno):"
   ]
  },
  {
   "cell_type": "code",
   "execution_count": 4,
   "metadata": {},
   "outputs": [],
   "source": [
    "entorno=gym.make('CartPole-v1')"
   ]
  },
  {
   "cell_type": "code",
   "execution_count": 8,
   "metadata": {},
   "outputs": [
    {
     "name": "stdout",
     "output_type": "stream",
     "text": [
      "WARNING:tensorflow:From /Users/data/Library/Python/3.7/lib/python/site-packages/keras/backend/tensorflow_backend.py:74: The name tf.get_default_graph is deprecated. Please use tf.compat.v1.get_default_graph instead.\n",
      "\n",
      "WARNING:tensorflow:From /Users/data/Library/Python/3.7/lib/python/site-packages/keras/backend/tensorflow_backend.py:517: The name tf.placeholder is deprecated. Please use tf.compat.v1.placeholder instead.\n",
      "\n",
      "WARNING:tensorflow:From /Users/data/Library/Python/3.7/lib/python/site-packages/keras/backend/tensorflow_backend.py:4138: The name tf.random_uniform is deprecated. Please use tf.random.uniform instead.\n",
      "\n"
     ]
    }
   ],
   "source": [
    "def agent(states, actions):\n",
    "    model = Sequential()\n",
    "    model.add(Flatten(input_shape = (1, states)))\n",
    "    model.add(Dense(24, activation='relu'))\n",
    "    model.add(Dense(24, activation='relu'))\n",
    "    model.add(Dense(24, activation='relu'))\n",
    "    model.add(Dense(actions, activation='linear'))\n",
    "    return model\n",
    "  \n",
    "model = agent(env.observation_space.shape[0], env.action_space.n)"
   ]
  },
  {
   "cell_type": "code",
   "execution_count": 9,
   "metadata": {},
   "outputs": [],
   "source": [
    "policy = EpsGreedyQPolicy()"
   ]
  },
  {
   "cell_type": "code",
   "execution_count": 10,
   "metadata": {},
   "outputs": [],
   "source": [
    "sarsa = SARSAAgent(model = model, policy = policy, nb_actions = env.action_space.n)"
   ]
  },
  {
   "cell_type": "code",
   "execution_count": 11,
   "metadata": {},
   "outputs": [
    {
     "name": "stdout",
     "output_type": "stream",
     "text": [
      "WARNING:tensorflow:From /Users/data/Library/Python/3.7/lib/python/site-packages/keras/optimizers.py:790: The name tf.train.Optimizer is deprecated. Please use tf.compat.v1.train.Optimizer instead.\n",
      "\n"
     ]
    }
   ],
   "source": [
    "sarsa.compile('adam', metrics = ['mse'])"
   ]
  },
  {
   "cell_type": "code",
   "execution_count": 12,
   "metadata": {},
   "outputs": [
    {
     "name": "stdout",
     "output_type": "stream",
     "text": [
      "Training for 50000 steps ...\n",
      "Interval 1 (0 steps performed)\n",
      "WARNING:tensorflow:From /Users/data/Library/Python/3.7/lib/python/site-packages/keras/backend/tensorflow_backend.py:2741: The name tf.Session is deprecated. Please use tf.compat.v1.Session instead.\n",
      "\n",
      "WARNING:tensorflow:From /Users/data/Library/Python/3.7/lib/python/site-packages/keras/backend/tensorflow_backend.py:174: The name tf.get_default_session is deprecated. Please use tf.compat.v1.get_default_session instead.\n",
      "\n",
      "10000/10000 [==============================] - 13s 1ms/step - reward: 1.0000\n",
      "334 episodes - episode_reward: 29.847 [8.000, 326.000] - loss: 8.625 - mean_squared_error: 553.507 - mean_q: 29.571\n",
      "\n",
      "Interval 2 (10000 steps performed)\n",
      "10000/10000 [==============================] - 12s 1ms/step - reward: 1.0000\n",
      "58 episodes - episode_reward: 166.897 [12.000, 500.000] - loss: 9.356 - mean_squared_error: 1701.301 - mean_q: 58.859\n",
      "\n",
      "Interval 3 (20000 steps performed)\n",
      "10000/10000 [==============================] - 13s 1ms/step - reward: 1.0000\n",
      "70 episodes - episode_reward: 147.157 [8.000, 500.000] - loss: 5.849 - mean_squared_error: 1961.640 - mean_q: 60.397\n",
      "\n",
      "Interval 4 (30000 steps performed)\n",
      "10000/10000 [==============================] - 13s 1ms/step - reward: 1.0000\n",
      "48 episodes - episode_reward: 208.750 [11.000, 500.000] - loss: 5.152 - mean_squared_error: 1976.102 - mean_q: 60.508\n",
      "\n",
      "Interval 5 (40000 steps performed)\n",
      "10000/10000 [==============================] - 13s 1ms/step - reward: 1.0000\n",
      "done, took 63.674 seconds\n"
     ]
    },
    {
     "data": {
      "text/plain": [
       "<keras.callbacks.History at 0x14e75c490>"
      ]
     },
     "execution_count": 12,
     "metadata": {},
     "output_type": "execute_result"
    }
   ],
   "source": [
    "sarsa.fit(env, nb_steps = 50000, visualize = False, verbose = 1)"
   ]
  },
  {
   "cell_type": "code",
   "execution_count": 13,
   "metadata": {},
   "outputs": [
    {
     "name": "stdout",
     "output_type": "stream",
     "text": [
      "Testing for 100 episodes ...\n",
      "Episode 1: reward: 265.000, steps: 265\n",
      "Episode 2: reward: 292.000, steps: 292\n",
      "Episode 3: reward: 298.000, steps: 298\n",
      "Episode 4: reward: 260.000, steps: 260\n",
      "Episode 5: reward: 291.000, steps: 291\n",
      "Episode 6: reward: 283.000, steps: 283\n",
      "Episode 7: reward: 272.000, steps: 272\n",
      "Episode 8: reward: 262.000, steps: 262\n",
      "Episode 9: reward: 295.000, steps: 295\n",
      "Episode 10: reward: 269.000, steps: 269\n",
      "Episode 11: reward: 273.000, steps: 273\n",
      "Episode 12: reward: 290.000, steps: 290\n",
      "Episode 13: reward: 301.000, steps: 301\n",
      "Episode 14: reward: 261.000, steps: 261\n",
      "Episode 15: reward: 285.000, steps: 285\n",
      "Episode 16: reward: 289.000, steps: 289\n",
      "Episode 17: reward: 276.000, steps: 276\n",
      "Episode 18: reward: 278.000, steps: 278\n",
      "Episode 19: reward: 295.000, steps: 295\n",
      "Episode 20: reward: 286.000, steps: 286\n",
      "Episode 21: reward: 280.000, steps: 280\n",
      "Episode 22: reward: 287.000, steps: 287\n",
      "Episode 23: reward: 295.000, steps: 295\n",
      "Episode 24: reward: 290.000, steps: 290\n",
      "Episode 25: reward: 273.000, steps: 273\n",
      "Episode 26: reward: 278.000, steps: 278\n",
      "Episode 27: reward: 280.000, steps: 280\n",
      "Episode 28: reward: 290.000, steps: 290\n",
      "Episode 29: reward: 299.000, steps: 299\n",
      "Episode 30: reward: 280.000, steps: 280\n",
      "Episode 31: reward: 279.000, steps: 279\n",
      "Episode 32: reward: 284.000, steps: 284\n",
      "Episode 33: reward: 290.000, steps: 290\n",
      "Episode 34: reward: 268.000, steps: 268\n",
      "Episode 35: reward: 277.000, steps: 277\n",
      "Episode 36: reward: 267.000, steps: 267\n",
      "Episode 37: reward: 258.000, steps: 258\n",
      "Episode 38: reward: 282.000, steps: 282\n",
      "Episode 39: reward: 284.000, steps: 284\n",
      "Episode 40: reward: 267.000, steps: 267\n",
      "Episode 41: reward: 278.000, steps: 278\n",
      "Episode 42: reward: 277.000, steps: 277\n",
      "Episode 43: reward: 271.000, steps: 271\n",
      "Episode 44: reward: 282.000, steps: 282\n",
      "Episode 45: reward: 280.000, steps: 280\n",
      "Episode 46: reward: 270.000, steps: 270\n",
      "Episode 47: reward: 289.000, steps: 289\n",
      "Episode 48: reward: 279.000, steps: 279\n",
      "Episode 49: reward: 321.000, steps: 321\n",
      "Episode 50: reward: 288.000, steps: 288\n",
      "Episode 51: reward: 292.000, steps: 292\n",
      "Episode 52: reward: 279.000, steps: 279\n",
      "Episode 53: reward: 273.000, steps: 273\n",
      "Episode 54: reward: 285.000, steps: 285\n",
      "Episode 55: reward: 309.000, steps: 309\n",
      "Episode 56: reward: 269.000, steps: 269\n",
      "Episode 57: reward: 279.000, steps: 279\n",
      "Episode 58: reward: 268.000, steps: 268\n",
      "Episode 59: reward: 272.000, steps: 272\n",
      "Episode 60: reward: 272.000, steps: 272\n",
      "Episode 61: reward: 286.000, steps: 286\n",
      "Episode 62: reward: 271.000, steps: 271\n",
      "Episode 63: reward: 267.000, steps: 267\n",
      "Episode 64: reward: 256.000, steps: 256\n",
      "Episode 65: reward: 262.000, steps: 262\n",
      "Episode 66: reward: 273.000, steps: 273\n",
      "Episode 67: reward: 277.000, steps: 277\n",
      "Episode 68: reward: 280.000, steps: 280\n",
      "Episode 69: reward: 256.000, steps: 256\n",
      "Episode 70: reward: 277.000, steps: 277\n",
      "Episode 71: reward: 281.000, steps: 281\n",
      "Episode 72: reward: 265.000, steps: 265\n",
      "Episode 73: reward: 260.000, steps: 260\n",
      "Episode 74: reward: 294.000, steps: 294\n",
      "Episode 75: reward: 275.000, steps: 275\n",
      "Episode 76: reward: 290.000, steps: 290\n",
      "Episode 77: reward: 285.000, steps: 285\n",
      "Episode 78: reward: 273.000, steps: 273\n",
      "Episode 79: reward: 290.000, steps: 290\n",
      "Episode 80: reward: 267.000, steps: 267\n",
      "Episode 81: reward: 296.000, steps: 296\n",
      "Episode 82: reward: 272.000, steps: 272\n",
      "Episode 83: reward: 263.000, steps: 263\n",
      "Episode 84: reward: 273.000, steps: 273\n",
      "Episode 85: reward: 285.000, steps: 285\n",
      "Episode 86: reward: 264.000, steps: 264\n",
      "Episode 87: reward: 274.000, steps: 274\n",
      "Episode 88: reward: 277.000, steps: 277\n",
      "Episode 89: reward: 287.000, steps: 287\n",
      "Episode 90: reward: 272.000, steps: 272\n",
      "Episode 91: reward: 272.000, steps: 272\n",
      "Episode 92: reward: 284.000, steps: 284\n",
      "Episode 93: reward: 296.000, steps: 296\n",
      "Episode 94: reward: 281.000, steps: 281\n",
      "Episode 95: reward: 293.000, steps: 293\n",
      "Episode 96: reward: 283.000, steps: 283\n",
      "Episode 97: reward: 295.000, steps: 295\n",
      "Episode 98: reward: 266.000, steps: 266\n",
      "Episode 99: reward: 290.000, steps: 290\n",
      "Episode 100: reward: 277.000, steps: 277\n",
      "Average score over 100 test games:279.47\n"
     ]
    }
   ],
   "source": [
    "scores = sarsa.test(env, nb_episodes = 100, visualize= False)\n",
    "print('Average score over 100 test games:{}'.format(np.mean(scores.history['episode_reward'])))"
   ]
  },
  {
   "cell_type": "code",
   "execution_count": 14,
   "metadata": {},
   "outputs": [],
   "source": [
    "# sarsa.save_weights('sarsa_weights.h5f', overwrite=True)\n",
    "# sarsa.load_weights('sarsa_weights.h5f')"
   ]
  },
  {
   "cell_type": "code",
   "execution_count": 16,
   "metadata": {},
   "outputs": [
    {
     "name": "stdout",
     "output_type": "stream",
     "text": [
      "Testing for 2 episodes ...\n",
      "Episode 1: reward: 279.000, steps: 279\n",
      "Episode 2: reward: 289.000, steps: 289\n"
     ]
    }
   ],
   "source": [
    "_ = sarsa.test(env, nb_episodes = 2, visualize= True)"
   ]
  },
  {
   "cell_type": "code",
   "execution_count": null,
   "metadata": {},
   "outputs": [],
   "source": []
  }
 ],
 "metadata": {
  "kernelspec": {
   "display_name": "Python 3",
   "language": "python",
   "name": "python3"
  },
  "language_info": {
   "codemirror_mode": {
    "name": "ipython",
    "version": 3
   },
   "file_extension": ".py",
   "mimetype": "text/x-python",
   "name": "python",
   "nbconvert_exporter": "python",
   "pygments_lexer": "ipython3",
   "version": "3.7.6"
  }
 },
 "nbformat": 4,
 "nbformat_minor": 2
}
