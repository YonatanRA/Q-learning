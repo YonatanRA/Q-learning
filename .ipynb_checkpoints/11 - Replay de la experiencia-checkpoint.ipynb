{
 "cells": [
  {
   "cell_type": "markdown",
   "metadata": {},
   "source": [
    "# Replay de la experiencia (memoria)"
   ]
  },
  {
   "cell_type": "code",
   "execution_count": null,
   "metadata": {},
   "outputs": [],
   "source": []
  },
  {
   "cell_type": "code",
   "execution_count": null,
   "metadata": {},
   "outputs": [],
   "source": [
    "class ExperienceMemory(object):\n",
    "    \"\"\"\n",
    "    A cyclic/ring buffer based Experience Memory implementation\n",
    "    \"\"\"\n",
    "    def __init__(self, capacity=int(1e6)):\n",
    "        \"\"\"\n",
    "\n",
    "        :param capacity: Total capacity (Max number of Experiences)\n",
    "        :return:\n",
    "        \"\"\"\n",
    "        self.capacity = capacity\n",
    "        self.mem_idx = 0  # Index of the current experience\n",
    "        self.memory = []\n",
    "\n",
    "    def store(self, experience):\n",
    "        \"\"\"\n",
    "\n",
    "        :param experience: The Experience object to be stored into the memory\n",
    "        :return:\n",
    "        \"\"\"\n",
    "        if self.mem_idx < self.capacity:\n",
    "            # Extend the memory and create space\n",
    "            self.memory.append(None)\n",
    "        self.memory[self.mem_idx % self.capacity] = experience\n",
    "        self.mem_idx += 1\n",
    "\n",
    "    def sample(self, batch_size):\n",
    "        \"\"\"\n",
    "\n",
    "        :param batch_size:  Sample batch_size\n",
    "        :return: A list of batch_size number of Experiences sampled at random from mem\n",
    "        \"\"\"\n",
    "        assert batch_size <= len(self.memory), \"Sample batch_size is more than available exp in mem\"\n",
    "        return random.sample(self.memory, batch_size)\n",
    "\n",
    "    def get_size(self):\n",
    "        \"\"\"\n",
    "\n",
    "        :return: Number of Experiences stored in the memory\n",
    "        \"\"\"\n",
    "        return len(self.memory)"
   ]
  },
  {
   "cell_type": "code",
   "execution_count": null,
   "metadata": {},
   "outputs": [],
   "source": []
  },
  {
   "cell_type": "code",
   "execution_count": null,
   "metadata": {},
   "outputs": [],
   "source": []
  },
  {
   "cell_type": "code",
   "execution_count": null,
   "metadata": {},
   "outputs": [],
   "source": []
  }
 ],
 "metadata": {
  "kernelspec": {
   "display_name": "Python 3",
   "language": "python",
   "name": "python3"
  },
  "language_info": {
   "codemirror_mode": {
    "name": "ipython",
    "version": 3
   },
   "file_extension": ".py",
   "mimetype": "text/x-python",
   "name": "python",
   "nbconvert_exporter": "python",
   "pygments_lexer": "ipython3",
   "version": "3.7.6"
  }
 },
 "nbformat": 4,
 "nbformat_minor": 2
}
