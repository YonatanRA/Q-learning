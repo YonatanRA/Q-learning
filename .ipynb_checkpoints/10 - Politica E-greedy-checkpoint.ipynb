{
 "cells": [
  {
   "cell_type": "markdown",
   "metadata": {},
   "source": [
    "# Politica $\\epsilon$-greedy"
   ]
  },
  {
   "cell_type": "markdown",
   "metadata": {},
   "source": [
    "Ya hemos visto que la politica $\\epsilon-greedy$ consiste en la dualidad aplicar-aprender, con una probabilidad $1-\\epsilon$ para la mejor accion posible dentro de lo aprendido y con una probabilidad $\\epsilon$ de realizar una accion aleatoria.\n",
    "\n",
    "Intuitivamente vemos que al principio del aprendizaje el valor de $\\epsilon$ debería ser muy alto, o directamente 1, para que sea mas probable que el agente realice una accion aleatoria para explorar el entorno. Mientras el agente va aprendiendo, $\\epsilon$ debe ir reduciendo su valor para que sea cada vez mas probable que el agente realice la mejor accion.\n",
    "\n",
    "Veamos ahora una funcion lineal que modele el comportamiento del valor de $\\epsilon$, aunque podriamos utilizar otro tipo de funciones como por ejemplo una exponencial."
   ]
  },
  {
   "cell_type": "code",
   "execution_count": 1,
   "metadata": {},
   "outputs": [],
   "source": [
    "import matplotlib.pyplot as plt\n",
    "%matplotlib inline"
   ]
  },
  {
   "cell_type": "code",
   "execution_count": 2,
   "metadata": {},
   "outputs": [],
   "source": [
    "# funcion lineal \n",
    "\n",
    "class DecayLineal(object):\n",
    "    def __init__(self, valor_ini, valor_final, pasos_max):\n",
    "        assert valor_ini>valor_final, 'valor inicial > valor final'\n",
    "        self.valor_ini=valor_ini\n",
    "        self.valor_final=valor_final\n",
    "        self.decay=(valor_ini-valor_final)/pasos_max\n",
    "\n",
    "    def __call__(self, num_pasos):\n",
    "        valor_actual=self.valor_ini-self.decay*num_pasos\n",
    "        if valor_actual<self.valor_final:\n",
    "            valor_actual=self.valor_final\n",
    "        return valor_actual"
   ]
  },
  {
   "cell_type": "code",
   "execution_count": 3,
   "metadata": {},
   "outputs": [
    {
     "data": {
      "image/png": "[encoded data removed]",
      "text/plain": [
       "<Figure size 432x288 with 1 Axes>"
      ]
     },
     "metadata": {
      "needs_background": "light"
     },
     "output_type": "display_data"
    }
   ],
   "source": [
    "epsilon_inicial=1.0\n",
    "epsilon_final=0.05\n",
    "\n",
    "MAX_NUM_EPISODIOS=10000\n",
    "MAX_PASOS_POR_EPISODIO=300\n",
    "\n",
    "\n",
    "lineal=DecayLineal(valor_ini=epsilon_inicial,\n",
    "                   valor_final=epsilon_final,\n",
    "                   pasos_max=MAX_NUM_EPISODIOS*MAX_PASOS_POR_EPISODIO)\n",
    "\n",
    "epsilon=[lineal(e) for e in range(MAX_NUM_EPISODIOS*MAX_PASOS_POR_EPISODIO)]\n",
    "plt.plot(epsilon)\n",
    "plt.xlabel('# Pasos')\n",
    "plt.ylabel('Epsilon')\n",
    "plt.title('Decay Lineal')\n",
    "plt.show();"
   ]
  },
  {
   "cell_type": "code",
   "execution_count": null,
   "metadata": {},
   "outputs": [],
   "source": []
  }
 ],
 "metadata": {
  "kernelspec": {
   "display_name": "Python 3",
   "language": "python",
   "name": "python3"
  },
  "language_info": {
   "codemirror_mode": {
    "name": "ipython",
    "version": 3
   },
   "file_extension": ".py",
   "mimetype": "text/x-python",
   "name": "python",
   "nbconvert_exporter": "python",
   "pygments_lexer": "ipython3",
   "version": "3.7.6"
  }
 },
 "nbformat": 4,
 "nbformat_minor": 2
}
