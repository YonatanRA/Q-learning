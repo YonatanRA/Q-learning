{
 "cells": [
  {
   "cell_type": "code",
   "execution_count": null,
   "metadata": {},
   "outputs": [],
   "source": [
    "import gym                              # Importar libreria\n",
    "\n",
    "\n",
    "env = gym.make(\"MountainCar-v0\")        # Se crea el entorno\n",
    "env.reset()\n",
    "\n",
    "for i in range(2000):                   # Se ejecutan 2000 pasos\n",
    "    #print (i)\n",
    "    env.render()                        # Visualiza el entorno\n",
    "    env.step(env.action_space.sample()) # Se realiza una accion aleatoria"
   ]
  },
  {
   "cell_type": "code",
   "execution_count": null,
   "metadata": {},
   "outputs": [],
   "source": []
  }
 ],
 "metadata": {
  "kernelspec": {
   "display_name": "Python 3",
   "language": "python",
   "name": "python3"
  },
  "language_info": {
   "codemirror_mode": {
    "name": "ipython",
    "version": 3
   },
   "file_extension": ".py",
   "mimetype": "text/x-python",
   "name": "python",
   "nbconvert_exporter": "python",
   "pygments_lexer": "ipython3",
   "version": "3.7.6"
  }
 },
 "nbformat": 4,
 "nbformat_minor": 2
}
