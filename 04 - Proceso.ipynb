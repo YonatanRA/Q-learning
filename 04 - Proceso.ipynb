{
 "cells": [
  {
   "cell_type": "raw",
   "metadata": {},
   "source": [
    "import gym\n",
    "\n",
    "entorno=gym.make('nombre_del_entorno')\n",
    "\n",
    "observacion=entorno.reset()\n",
    "\n",
    "accion=agente.choose_action(observacion)\n",
    "\n",
    "siguiente_estado,recompensa,done,info=entorno.step(accion)\n",
    "\n",
    "observacion=siguiente_estado"
   ]
  },
  {
   "cell_type": "code",
   "execution_count": 1,
   "metadata": {},
   "outputs": [],
   "source": [
    "import gym \n",
    "\n",
    "entorno=gym.make('Qbert-v0')"
   ]
  },
  {
   "cell_type": "code",
   "execution_count": 2,
   "metadata": {},
   "outputs": [],
   "source": [
    "MAX_NUM_EPISODIOS=10\n",
    "\n",
    "MAX_PASOS_POR_EPISODIO=500"
   ]
  },
  {
   "cell_type": "code",
   "execution_count": 4,
   "metadata": {},
   "outputs": [
    {
     "name": "stdout",
     "output_type": "stream",
     "text": [
      "\n",
      " Episodio #0 finalizado en 366 pasos.\n",
      "\n",
      " Episodio #1 finalizado en 469 pasos.\n",
      "\n",
      " Episodio #3 finalizado en 432 pasos.\n",
      "\n",
      " Episodio #4 finalizado en 326 pasos.\n",
      "\n",
      " Episodio #5 finalizado en 401 pasos.\n",
      "\n",
      " Episodio #7 finalizado en 402 pasos.\n"
     ]
    }
   ],
   "source": [
    "for episodio in range(MAX_NUM_EPISODIOS):\n",
    "    \n",
    "    observacion=entorno.reset()\n",
    "    \n",
    "    for paso in range(MAX_PASOS_POR_EPISODIO):\n",
    "        entorno.render()\n",
    "        \n",
    "        accion=entorno.action_space.sample() # accion aleatoria, es esto lo que se cambiará cuando se desarrollen los algoritmos de los agentes\n",
    "        \n",
    "        siguiente_estado,recompensa,done,info=entorno.step(accion) # envia la accion al entorno y recibe el siguiente estado, la recompensa y si está hecho o no\n",
    "        \n",
    "        observacion=siguiente_estado\n",
    "        \n",
    "        if done is True:\n",
    "            print ('\\n Episodio #{} finalizado en {} pasos.'.format(episodio, paso+1))\n",
    "            break"
   ]
  },
  {
   "cell_type": "code",
   "execution_count": null,
   "metadata": {},
   "outputs": [],
   "source": []
  }
 ],
 "metadata": {
  "kernelspec": {
   "display_name": "Python 3",
   "language": "python",
   "name": "python3"
  },
  "language_info": {
   "codemirror_mode": {
    "name": "ipython",
    "version": 3
   },
   "file_extension": ".py",
   "mimetype": "text/x-python",
   "name": "python",
   "nbconvert_exporter": "python",
   "pygments_lexer": "ipython3",
   "version": "3.7.6"
  }
 },
 "nbformat": 4,
 "nbformat_minor": 2
}
