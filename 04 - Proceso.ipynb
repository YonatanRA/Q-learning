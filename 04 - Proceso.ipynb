{
 "cells": [
  {
   "cell_type": "raw",
   "metadata": {},
   "source": [
    "import gym\n",
    "\n",
    "entorno=gym.make('nombre_del_entorno')\n",
    "\n",
    "observacion=env.reset()\n",
    "\n",
    "accion=agente.choose_action(observacion)\n",
    "\n",
    "siguiente_estado,recompensa,done,info=entorno.step(accion)\n",
    "\n",
    "observacion=siguiente_estado"
   ]
  },
  {
   "cell_type": "code",
   "execution_count": 1,
   "metadata": {},
   "outputs": [],
   "source": [
    "import gym \n",
    "\n",
    "entorno=gym.make('Qbert-v0')"
   ]
  },
  {
   "cell_type": "code",
   "execution_count": 2,
   "metadata": {},
   "outputs": [],
   "source": [
    "MAX_NUM_EPISODIOS=10\n",
    "\n",
    "MAX_PASOS_POR_EPISODIO=500"
   ]
  },
  {
   "cell_type": "code",
   "execution_count": null,
   "metadata": {},
   "outputs": [],
   "source": []
  }
 ],
 "metadata": {
  "kernelspec": {
   "display_name": "Python 3",
   "language": "python",
   "name": "python3"
  },
  "language_info": {
   "codemirror_mode": {
    "name": "ipython",
    "version": 3
   },
   "file_extension": ".py",
   "mimetype": "text/x-python",
   "name": "python",
   "nbconvert_exporter": "python",
   "pygments_lexer": "ipython3",
   "version": "3.7.6"
  }
 },
 "nbformat": 4,
 "nbformat_minor": 2
}
