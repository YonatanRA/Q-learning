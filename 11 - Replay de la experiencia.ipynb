{
 "cells": [
  {
   "cell_type": "markdown",
   "metadata": {},
   "source": [
    "# Replay de la experiencia (memoria)"
   ]
  },
  {
   "cell_type": "markdown",
   "metadata": {},
   "source": [
    "El guardar la experiencia en memoria nos permite reusar la experiencia pasada del agente. Actualizar redes neuronales, especialmente con tasas de aprendizaje bajas, require de muchos pasos de retropropagacion y optimizacion para converger. Reusar la experiencia pasada ayuda a llegar a la convergencia de los Q-valores."
   ]
  },
  {
   "cell_type": "code",
   "execution_count": 1,
   "metadata": {},
   "outputs": [],
   "source": [
    "class Memoria(object):\n",
    "    '''\n",
    "    Implementacion de un buffer ciclico basado en la memoria de la experiencia\n",
    "    '''\n",
    "    def __init__(self, capacidad=int(1e6)):\n",
    "        \"\"\"\n",
    "        capacidad: Max numero de experiencias\n",
    "        \"\"\"\n",
    "        self.capacidad=capacidad\n",
    "        self.mem_idx=0  # Indice de la experiencia actual\n",
    "        self.memoria=[]\n",
    "\n",
    "        \n",
    "    def guarda(self, experiencia):\n",
    "        '''\n",
    "        experiencia: el objeto a ser guardado en memoria\n",
    "        '''\n",
    "        if self.mem_idx<self.capacidad:\n",
    "            # Extiende la memoria y crea un espacio\n",
    "            self.memoria.append(None)\n",
    "        self.memoria[self.mem_idx%self.capacidad]=experiencia\n",
    "        self.mem_idx+=1\n",
    "\n",
    "        \n",
    "    def muestra(self, batch_size):\n",
    "        '''\n",
    "        batch_size:  tamaño de la muestra\n",
    "        '''\n",
    "        assert batch_size<=len(self.memoria), 'El tamaño de la muestra esta disponible en memoria.'\n",
    "        \n",
    "        # se devuelve una lista de experiencias con muestreo aleatorio\n",
    "        return random.sample(self.memoria, batch_size)\n",
    "\n",
    "    \n",
    "    def tamaño_muestra(self):\n",
    "        return len(self.memoria) # numero de experiencias guardadas en memoria"
   ]
  },
  {
   "cell_type": "code",
   "execution_count": null,
   "metadata": {},
   "outputs": [],
   "source": []
  }
 ],
 "metadata": {
  "kernelspec": {
   "display_name": "Python 3",
   "language": "python",
   "name": "python3"
  },
  "language_info": {
   "codemirror_mode": {
    "name": "ipython",
    "version": 3
   },
   "file_extension": ".py",
   "mimetype": "text/x-python",
   "name": "python",
   "nbconvert_exporter": "python",
   "pygments_lexer": "ipython3",
   "version": "3.7.6"
  }
 },
 "nbformat": 4,
 "nbformat_minor": 2
}
