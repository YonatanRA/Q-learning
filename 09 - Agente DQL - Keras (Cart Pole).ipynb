{
 "cells": [
  {
   "cell_type": "markdown",
   "metadata": {},
   "source": [
    "# Cart Pole"
   ]
  },
  {
   "cell_type": "markdown",
   "metadata": {},
   "source": [
    "#### Descripcion \n",
    "\n",
    "\n",
    "+ **Espacio de observacion (Box(4,))**\n",
    "\n",
    "+ Posicion del carro: [-2.4, 2.4]\n",
    "+ Velocidad del carro: [$-\\infty$, $\\infty$]\n",
    "+ Angulo del palo: [-41.8, 41.8]\n",
    "+ Velocidad del palo en la punta: [$-\\infty$, $\\infty$]\n",
    "\n",
    "\n",
    "+ **Espacio de accion (Discrete(2))**\n",
    "\n",
    "+ Izquierda: 0\n",
    "+ Derecha: 1\n",
    "\n",
    "\n",
    "El objetivo es mantener el palo vertical moviendo a izquierda y derecha el carro.\n",
    "\n",
    "\n",
    "La recompensa es +1 para cada paso temporal. El episodio se termina si el angulo es mayor a $\\pm 12$ grados o si el carro sobrepasa la posicion $\\pm 2.4$"
   ]
  },
  {
   "cell_type": "markdown",
   "metadata": {},
   "source": [
    "**Ahora usaremos Keras para crear el agente**"
   ]
  },
  {
   "cell_type": "code",
   "execution_count": 1,
   "metadata": {},
   "outputs": [],
   "source": [
    "# pip3 install keras-rl"
   ]
  },
  {
   "cell_type": "code",
   "execution_count": 3,
   "metadata": {},
   "outputs": [],
   "source": [
    "# librerias\n",
    "\n",
    "import gym\n",
    "import numpy as np\n",
    "from keras.layers import Dense, Flatten\n",
    "from keras.models import Sequential\n",
    "from keras.optimizers import Adam\n",
    "\n",
    "from rl.agents import SARSAAgent\n",
    "from rl.policy import EpsGreedyQPolicy\n",
    "\n",
    "import warnings\n",
    "warnings.simplefilter('ignore')"
   ]
  },
  {
   "cell_type": "markdown",
   "metadata": {},
   "source": [
    "### Agente\n",
    "\n",
    "En este vamos caso a crear un agente basado en el algoritmo SARSA (state-action-reward-state-action). Dicho algoritmo tiene la ecuacion:\n",
    "\n",
    "$$Q_{nueva}(e_{t}, a_{t})=(1-\\alpha)·Q(e_{t}, a_{t}) + \\alpha·[r_{t} + \\gamma·Q(e_{t+1}, a_{t+1})]$$\n",
    "\n",
    "\n",
    "donde:\n",
    "+ $e_{t}$ es el estado en el tiempo t\n",
    "+ $a_{t}$ es la accion en el tiempo t\n",
    "+ $\\alpha$ es la tasa de aprendizaje $(0<\\alpha \\leq{1})$\n",
    "+ $Q(e_{t}, a_{t})$ es el viejo valor de calidad\n",
    "+ $[r_{t} + \\gamma·Q(e_{t+1}, a_{t+1})]$ es el valor aprendido\n",
    "+ $r_{t}$ es la recompensa recibida al pasar del estado $e_{t}$ al estado $e_{t+1}$\n",
    "+ $\\gamma$ es el factor de descuento $(0\\leq \\gamma \\leq 1)$. Evalua las recompensas recibidas anteriormente con un valor mayor que las recibidas posteriormente, se puede interpretar como la probabilidad de tener exito (o sobrevivir) en cada paso temporal+ $\\max_{a}Q(e_{t+1}, a_{t+1})$ es la estimacion del valor optimo futuro"
   ]
  },
  {
   "cell_type": "code",
   "execution_count": 5,
   "metadata": {},
   "outputs": [],
   "source": [
    "class Agente(object):\n",
    "    \n",
    "    def __init__(self, entorno):\n",
    "        self.entorno=entorno\n",
    "        self.observaciones=self.entorno.observation_space.shape[0]\n",
    "        self.dim_accion=self.entorno.action_space.n\n",
    "        self.pasos=NUM_MAX_PASOS\n",
    "        self.politica=EpsGreedyQPolicy()\n",
    "        self.modelo=''\n",
    "        \n",
    "        \n",
    "    def sarsa(self, entrenar=True, guardar=False, cargar=False):  # modelo sarsa con keras\n",
    "        modelo=Sequential()\n",
    "        modelo.add(Flatten(input_shape = (1, self.observaciones)))\n",
    "        modelo.add(Dense(24, activation='relu'))\n",
    "        modelo.add(Dense(24, activation='relu'))\n",
    "        modelo.add(Dense(24, activation='relu'))\n",
    "        modelo.add(Dense(self.dim_accion, activation='linear'))\n",
    "        \n",
    "        modelo=SARSAAgent(model=modelo, policy=self.politica, nb_actions=self.dim_accion)\n",
    "        \n",
    "        modelo.compile('adam', metrics=['mse'])\n",
    "        \n",
    "        \n",
    "        if entrenar:\n",
    "            modelo.fit(self.entorno, nb_steps=self.pasos, visualize=False, verbose=1)\n",
    "        \n",
    "        if guardar:\n",
    "            modelo.save_weights('sarsa_weights.h5f', overwrite=True)\n",
    "            \n",
    "        if cargar:\n",
    "            modelo.load_weights('sarsa_weights.h5f')\n",
    "        \n",
    "        self.modelo=modelo\n",
    "        return self\n",
    "    \n",
    "    \n",
    "    def juega(self, ver, epis):\n",
    "        return self.modelo.test(self.entorno, nb_episodes=epis, visualize=ver)"
   ]
  },
  {
   "cell_type": "code",
   "execution_count": 6,
   "metadata": {},
   "outputs": [],
   "source": [
    "# constantes\n",
    "\n",
    "NUM_MAX_PASOS=50000"
   ]
  },
  {
   "cell_type": "code",
   "execution_count": 7,
   "metadata": {},
   "outputs": [],
   "source": [
    "entorno=gym.make('CartPole-v1')"
   ]
  },
  {
   "cell_type": "code",
   "execution_count": 8,
   "metadata": {},
   "outputs": [
    {
     "name": "stdout",
     "output_type": "stream",
     "text": [
      "WARNING:tensorflow:From /Users/data/Library/Python/3.7/lib/python/site-packages/keras/backend/tensorflow_backend.py:74: The name tf.get_default_graph is deprecated. Please use tf.compat.v1.get_default_graph instead.\n",
      "\n",
      "WARNING:tensorflow:From /Users/data/Library/Python/3.7/lib/python/site-packages/keras/backend/tensorflow_backend.py:517: The name tf.placeholder is deprecated. Please use tf.compat.v1.placeholder instead.\n",
      "\n",
      "WARNING:tensorflow:From /Users/data/Library/Python/3.7/lib/python/site-packages/keras/backend/tensorflow_backend.py:4138: The name tf.random_uniform is deprecated. Please use tf.random.uniform instead.\n",
      "\n",
      "WARNING:tensorflow:From /Users/data/Library/Python/3.7/lib/python/site-packages/keras/optimizers.py:790: The name tf.train.Optimizer is deprecated. Please use tf.compat.v1.train.Optimizer instead.\n",
      "\n",
      "Training for 50000 steps ...\n",
      "Interval 1 (0 steps performed)\n",
      "WARNING:tensorflow:From /Users/data/Library/Python/3.7/lib/python/site-packages/keras/backend/tensorflow_backend.py:2741: The name tf.Session is deprecated. Please use tf.compat.v1.Session instead.\n",
      "\n",
      "WARNING:tensorflow:From /Users/data/Library/Python/3.7/lib/python/site-packages/keras/backend/tensorflow_backend.py:174: The name tf.get_default_session is deprecated. Please use tf.compat.v1.get_default_session instead.\n",
      "\n",
      "10000/10000 [==============================] - 13s 1ms/step - reward: 1.0000\n",
      "447 episodes - episode_reward: 22.103 [8.000, 225.000] - loss: 6.053 - mean_squared_error: 230.923 - mean_q: 19.352\n",
      "\n",
      "Interval 2 (10000 steps performed)\n",
      "10000/10000 [==============================] - 13s 1ms/step - reward: 1.0000\n",
      "94 episodes - episode_reward: 105.702 [8.000, 404.000] - loss: 8.464 - mean_squared_error: 1306.504 - mean_q: 48.442\n",
      "\n",
      "Interval 3 (20000 steps performed)\n",
      "10000/10000 [==============================] - 13s 1ms/step - reward: 1.0000\n",
      "82 episodes - episode_reward: 123.780 [9.000, 354.000] - loss: 5.335 - mean_squared_error: 1305.952 - mean_q: 48.908\n",
      "\n",
      "Interval 4 (30000 steps performed)\n",
      "10000/10000 [==============================] - 13s 1ms/step - reward: 1.0000\n",
      "50 episodes - episode_reward: 193.820 [10.000, 500.000] - loss: 5.211 - mean_squared_error: 2079.458 - mean_q: 61.689\n",
      "\n",
      "Interval 5 (40000 steps performed)\n",
      "10000/10000 [==============================] - 13s 1ms/step - reward: 1.0000\n",
      "done, took 64.859 seconds\n"
     ]
    }
   ],
   "source": [
    "agente=Agente(entorno).sarsa()"
   ]
  },
  {
   "cell_type": "code",
   "execution_count": 9,
   "metadata": {},
   "outputs": [
    {
     "name": "stdout",
     "output_type": "stream",
     "text": [
      "Testing for 100 episodes ...\n",
      "Episode 1: reward: 111.000, steps: 111\n",
      "Episode 2: reward: 19.000, steps: 19\n",
      "Episode 3: reward: 20.000, steps: 20\n",
      "Episode 4: reward: 20.000, steps: 20\n",
      "Episode 5: reward: 15.000, steps: 15\n",
      "Episode 6: reward: 19.000, steps: 19\n",
      "Episode 7: reward: 112.000, steps: 112\n",
      "Episode 8: reward: 18.000, steps: 18\n",
      "Episode 9: reward: 17.000, steps: 17\n",
      "Episode 10: reward: 116.000, steps: 116\n",
      "Episode 11: reward: 18.000, steps: 18\n",
      "Episode 12: reward: 21.000, steps: 21\n",
      "Episode 13: reward: 17.000, steps: 17\n",
      "Episode 14: reward: 20.000, steps: 20\n",
      "Episode 15: reward: 111.000, steps: 111\n",
      "Episode 16: reward: 109.000, steps: 109\n",
      "Episode 17: reward: 115.000, steps: 115\n",
      "Episode 18: reward: 18.000, steps: 18\n",
      "Episode 19: reward: 16.000, steps: 16\n",
      "Episode 20: reward: 16.000, steps: 16\n",
      "Episode 21: reward: 116.000, steps: 116\n",
      "Episode 22: reward: 115.000, steps: 115\n",
      "Episode 23: reward: 20.000, steps: 20\n",
      "Episode 24: reward: 20.000, steps: 20\n",
      "Episode 25: reward: 18.000, steps: 18\n",
      "Episode 26: reward: 114.000, steps: 114\n",
      "Episode 27: reward: 20.000, steps: 20\n",
      "Episode 28: reward: 20.000, steps: 20\n",
      "Episode 29: reward: 116.000, steps: 116\n",
      "Episode 30: reward: 113.000, steps: 113\n",
      "Episode 31: reward: 19.000, steps: 19\n",
      "Episode 32: reward: 118.000, steps: 118\n",
      "Episode 33: reward: 112.000, steps: 112\n",
      "Episode 34: reward: 19.000, steps: 19\n",
      "Episode 35: reward: 19.000, steps: 19\n",
      "Episode 36: reward: 113.000, steps: 113\n",
      "Episode 37: reward: 111.000, steps: 111\n",
      "Episode 38: reward: 19.000, steps: 19\n",
      "Episode 39: reward: 110.000, steps: 110\n",
      "Episode 40: reward: 21.000, steps: 21\n",
      "Episode 41: reward: 112.000, steps: 112\n",
      "Episode 42: reward: 17.000, steps: 17\n",
      "Episode 43: reward: 20.000, steps: 20\n",
      "Episode 44: reward: 16.000, steps: 16\n",
      "Episode 45: reward: 16.000, steps: 16\n",
      "Episode 46: reward: 23.000, steps: 23\n",
      "Episode 47: reward: 20.000, steps: 20\n",
      "Episode 48: reward: 113.000, steps: 113\n",
      "Episode 49: reward: 19.000, steps: 19\n",
      "Episode 50: reward: 114.000, steps: 114\n",
      "Episode 51: reward: 116.000, steps: 116\n",
      "Episode 52: reward: 121.000, steps: 121\n",
      "Episode 53: reward: 19.000, steps: 19\n",
      "Episode 54: reward: 19.000, steps: 19\n",
      "Episode 55: reward: 20.000, steps: 20\n",
      "Episode 56: reward: 17.000, steps: 17\n",
      "Episode 57: reward: 16.000, steps: 16\n",
      "Episode 58: reward: 18.000, steps: 18\n",
      "Episode 59: reward: 19.000, steps: 19\n",
      "Episode 60: reward: 112.000, steps: 112\n",
      "Episode 61: reward: 23.000, steps: 23\n",
      "Episode 62: reward: 112.000, steps: 112\n",
      "Episode 63: reward: 107.000, steps: 107\n",
      "Episode 64: reward: 109.000, steps: 109\n",
      "Episode 65: reward: 18.000, steps: 18\n",
      "Episode 66: reward: 111.000, steps: 111\n",
      "Episode 67: reward: 110.000, steps: 110\n",
      "Episode 68: reward: 112.000, steps: 112\n",
      "Episode 69: reward: 20.000, steps: 20\n",
      "Episode 70: reward: 115.000, steps: 115\n",
      "Episode 71: reward: 18.000, steps: 18\n",
      "Episode 72: reward: 16.000, steps: 16\n",
      "Episode 73: reward: 21.000, steps: 21\n",
      "Episode 74: reward: 112.000, steps: 112\n",
      "Episode 75: reward: 17.000, steps: 17\n",
      "Episode 76: reward: 17.000, steps: 17\n",
      "Episode 77: reward: 18.000, steps: 18\n",
      "Episode 78: reward: 112.000, steps: 112\n",
      "Episode 79: reward: 16.000, steps: 16\n",
      "Episode 80: reward: 18.000, steps: 18\n",
      "Episode 81: reward: 20.000, steps: 20\n",
      "Episode 82: reward: 16.000, steps: 16\n",
      "Episode 83: reward: 18.000, steps: 18\n",
      "Episode 84: reward: 20.000, steps: 20\n",
      "Episode 85: reward: 20.000, steps: 20\n",
      "Episode 86: reward: 115.000, steps: 115\n",
      "Episode 87: reward: 111.000, steps: 111\n",
      "Episode 88: reward: 19.000, steps: 19\n",
      "Episode 89: reward: 116.000, steps: 116\n",
      "Episode 90: reward: 18.000, steps: 18\n",
      "Episode 91: reward: 20.000, steps: 20\n",
      "Episode 92: reward: 117.000, steps: 117\n",
      "Episode 93: reward: 18.000, steps: 18\n",
      "Episode 94: reward: 20.000, steps: 20\n",
      "Episode 95: reward: 115.000, steps: 115\n",
      "Episode 96: reward: 113.000, steps: 113\n",
      "Episode 97: reward: 20.000, steps: 20\n",
      "Episode 98: reward: 116.000, steps: 116\n",
      "Episode 99: reward: 18.000, steps: 18\n",
      "Episode 100: reward: 111.000, steps: 111\n",
      "Recompensa media en 100 episodios:55.51\n"
     ]
    }
   ],
   "source": [
    "stats=agente.juega(False, 100)\n",
    "print('Recompensa media en 100 episodios:{}'.format(np.mean(stats.history['episode_reward'])))"
   ]
  },
  {
   "cell_type": "code",
   "execution_count": 10,
   "metadata": {},
   "outputs": [
    {
     "name": "stdout",
     "output_type": "stream",
     "text": [
      "Testing for 5 episodes ...\n",
      "Episode 1: reward: 23.000, steps: 23\n",
      "Episode 2: reward: 117.000, steps: 117\n",
      "Episode 3: reward: 20.000, steps: 20\n",
      "Episode 4: reward: 112.000, steps: 112\n",
      "Episode 5: reward: 16.000, steps: 16\n"
     ]
    },
    {
     "data": {
      "text/plain": [
       "<keras.callbacks.History at 0x13bcfc6d0>"
      ]
     },
     "execution_count": 10,
     "metadata": {},
     "output_type": "execute_result"
    }
   ],
   "source": [
    "agente.juega(True, 5)"
   ]
  },
  {
   "cell_type": "code",
   "execution_count": null,
   "metadata": {},
   "outputs": [],
   "source": []
  }
 ],
 "metadata": {
  "kernelspec": {
   "display_name": "Python 3",
   "language": "python",
   "name": "python3"
  },
  "language_info": {
   "codemirror_mode": {
    "name": "ipython",
    "version": 3
   },
   "file_extension": ".py",
   "mimetype": "text/x-python",
   "name": "python",
   "nbconvert_exporter": "python",
   "pygments_lexer": "ipython3",
   "version": "3.7.6"
  }
 },
 "nbformat": 4,
 "nbformat_minor": 2
}
