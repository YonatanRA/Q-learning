{
 "cells": [
  {
   "cell_type": "markdown",
   "metadata": {},
   "source": [
    "# Cart Pole"
   ]
  },
  {
   "cell_type": "markdown",
   "metadata": {},
   "source": [
    "#### Descripcion \n",
    "\n",
    "\n",
    "+ **Espacio de observacion (Box(4,))**\n",
    "\n",
    "+ Posicion del carro: [-2.4, 2.4]\n",
    "+ Velocidad del carro: [$-\\infty$, $\\infty$]\n",
    "+ Angulo del palo: [-41.8, 41.8]\n",
    "+ Velocidad del palo en la punta: [$-\\infty$, $\\infty$]\n",
    "\n",
    "\n",
    "+ **Espacio de accion (Discrete(2))**\n",
    "\n",
    "+ Izquierda: 0\n",
    "+ Derecha: 1\n",
    "\n",
    "\n",
    "El objetivo es mantener el palo vertical moviendo a izquierda y derecha el carro.\n",
    "\n",
    "\n",
    "La recompensa es +1 para cada paso temporal. El episodio se termina si el angulo es mayor a $\\pm 12$ grados o si el carro sobrepasa la posicion $\\pm 2.4$"
   ]
  },
  {
   "cell_type": "markdown",
   "metadata": {},
   "source": [
    "**Ahora usaremos Keras para crear el agente**"
   ]
  },
  {
   "cell_type": "code",
   "execution_count": 1,
   "metadata": {},
   "outputs": [],
   "source": [
    "# pip3 install keras-rl"
   ]
  },
  {
   "cell_type": "code",
   "execution_count": 3,
   "metadata": {},
   "outputs": [],
   "source": [
    "# librerias\n",
    "\n",
    "import gym\n",
    "import numpy as np\n",
    "from keras.layers import Dense, Flatten\n",
    "from keras.models import Sequential\n",
    "from keras.optimizers import Adam\n",
    "\n",
    "from rl.agents import SARSAAgent\n",
    "from rl.policy import EpsGreedyQPolicy\n",
    "\n",
    "import warnings\n",
    "warnings.simplefilter('ignore')"
   ]
  },
  {
   "cell_type": "markdown",
   "metadata": {},
   "source": [
    "### Agente\n",
    "\n",
    "En este vamos caso a crear un agente basado en el algoritmo SARSA (state-action-reward-state-action). Dicho algoritmo tiene la ecuacion:\n",
    "\n",
    "$$Q_{nueva}(e_{t}, a_{t})=(1-\\alpha)·Q(e_{t}, a_{t}) + \\alpha·[r_{t} + \\gamma·Q(e_{t+1}, a_{t+1})]$$\n",
    "\n",
    "\n",
    "donde:\n",
    "+ $e_{t}$ es el estado en el tiempo t\n",
    "+ $a_{t}$ es la accion en el tiempo t\n",
    "+ $\\alpha$ es la tasa de aprendizaje $(0<\\alpha \\leq{1})$\n",
    "+ $Q(e_{t}, a_{t})$ es el viejo valor de calidad\n",
    "+ $[r_{t} + \\gamma·Q(e_{t+1}, a_{t+1})]$ es el valor aprendido\n",
    "+ $r_{t}$ es la recompensa recibida al pasar del estado $e_{t}$ al estado $e_{t+1}$\n",
    "+ $\\gamma$ es el factor de descuento $(0\\leq \\gamma \\leq 1)$. Evalua las recompensas recibidas anteriormente con un valor mayor que las recibidas posteriormente, se puede interpretar como la probabilidad de tener exito (o sobrevivir) en cada paso temporal+ $\\max_{a}Q(e_{t+1}, a_{t+1})$ es la estimacion del valor optimo futuro"
   ]
  },
  {
   "cell_type": "code",
   "execution_count": 4,
   "metadata": {},
   "outputs": [],
   "source": [
    "class Agente(object):\n",
    "    \n",
    "    def __init__(self, entorno):\n",
    "        self.entorno=entorno\n",
    "        self.observaciones=self.entorno.observation_space.shape[0]\n",
    "        self.dim_accion=self.entorno.action_space.n\n",
    "        self.pasos=NUM_MAX_PASOS\n",
    "        self.episodios=NUM_MAX_EPIS\n",
    "        self.politica=EpsGreedyQPolicy()\n",
    "        \n",
    "        \n",
    "    def sarsa(self, entrenar=True, guardar=False, cargar=False):  # modelo sarsa con keras\n",
    "        modelo=Sequential()\n",
    "        modelo.add(Flatten(input_shape = (1, self.observaciones)))\n",
    "        modelo.add(Dense(24, activation='relu'))\n",
    "        modelo.add(Dense(24, activation='relu'))\n",
    "        modelo.add(Dense(24, activation='relu'))\n",
    "        modelo.add(Dense(self.dim_accion, activation='linear'))\n",
    "        \n",
    "        modelo=SARSAAgent(model=modelo, policy=self.politica, nb_actions=self.dim_accion)\n",
    "        \n",
    "        modelo.compile('adam', metrics=['mse'])\n",
    "        \n",
    "        \n",
    "        if entrenar:\n",
    "            modelo.fit(self.entorno, nb_steps=self.pasos, visualize=False, verbose=1)\n",
    "        \n",
    "        if guardar:\n",
    "            modelo.save_weights('sarsa_weights.h5f', overwrite=True)\n",
    "            \n",
    "        if cargar:\n",
    "            modelo.load_weights('sarsa_weights.h5f')\n",
    "            \n",
    "        return self\n",
    "\n",
    "    \n",
    "    \n",
    "    def juega(self, ver):\n",
    "        return self.sarsa.test(self.entorno, nb_episodes=self.episodios, visualize=ver)"
   ]
  },
  {
   "cell_type": "code",
   "execution_count": 5,
   "metadata": {},
   "outputs": [],
   "source": [
    "# constantes\n",
    "\n",
    "NUM_MAX_PASOS=50000\n",
    "NUM_MAX_EPIS=100"
   ]
  },
  {
   "cell_type": "code",
   "execution_count": 6,
   "metadata": {},
   "outputs": [],
   "source": [
    "entorno=gym.make('CartPole-v1')"
   ]
  },
  {
   "cell_type": "code",
   "execution_count": 8,
   "metadata": {},
   "outputs": [
    {
     "name": "stdout",
     "output_type": "stream",
     "text": [
      "Training for 50000 steps ...\n",
      "Interval 1 (0 steps performed)\n",
      "10000/10000 [==============================] - 14s 1ms/step - reward: 1.0000\n",
      "309 episodes - episode_reward: 32.172 [8.000, 254.000] - loss: 10.301 - mean_squared_error: 616.983 - mean_q: 31.923\n",
      "\n",
      "Interval 2 (10000 steps performed)\n",
      "10000/10000 [==============================] - 13s 1ms/step - reward: 1.0000\n",
      "89 episodes - episode_reward: 112.955 [12.000, 293.000] - loss: 8.003 - mean_squared_error: 1153.163 - mean_q: 46.722\n",
      "\n",
      "Interval 3 (20000 steps performed)\n",
      "10000/10000 [==============================] - 13s 1ms/step - reward: 1.0000\n",
      "91 episodes - episode_reward: 108.703 [11.000, 369.000] - loss: 4.844 - mean_squared_error: 1221.611 - mean_q: 46.221\n",
      "\n",
      "Interval 4 (30000 steps performed)\n",
      "10000/10000 [==============================] - 13s 1ms/step - reward: 1.0000\n",
      "66 episodes - episode_reward: 148.091 [10.000, 500.000] - loss: 3.369 - mean_squared_error: 1779.525 - mean_q: 55.672\n",
      "\n",
      "Interval 5 (40000 steps performed)\n",
      "10000/10000 [==============================] - 13s 1ms/step - reward: 1.0000\n",
      "done, took 67.163 seconds\n"
     ]
    }
   ],
   "source": [
    "agente=Agente(entorno).sarsa()"
   ]
  },
  {
   "cell_type": "code",
   "execution_count": 9,
   "metadata": {},
   "outputs": [
    {
     "ename": "AttributeError",
     "evalue": "'function' object has no attribute 'test'",
     "output_type": "error",
     "traceback": [
      "\u001b[0;31m---------------------------------------------------------------------------\u001b[0m",
      "\u001b[0;31mAttributeError\u001b[0m                            Traceback (most recent call last)",
      "\u001b[0;32m<ipython-input-9-44fc8676aab3>\u001b[0m in \u001b[0;36m<module>\u001b[0;34m\u001b[0m\n\u001b[0;32m----> 1\u001b[0;31m \u001b[0mstats\u001b[0m\u001b[0;34m=\u001b[0m\u001b[0magente\u001b[0m\u001b[0;34m.\u001b[0m\u001b[0mjuega\u001b[0m\u001b[0;34m(\u001b[0m\u001b[0;32mFalse\u001b[0m\u001b[0;34m)\u001b[0m\u001b[0;34m\u001b[0m\u001b[0;34m\u001b[0m\u001b[0m\n\u001b[0m\u001b[1;32m      2\u001b[0m \u001b[0mprint\u001b[0m\u001b[0;34m(\u001b[0m\u001b[0;34m'Recompensa media en 100 episodios:{}'\u001b[0m\u001b[0;34m.\u001b[0m\u001b[0mformat\u001b[0m\u001b[0;34m(\u001b[0m\u001b[0mnp\u001b[0m\u001b[0;34m.\u001b[0m\u001b[0mmean\u001b[0m\u001b[0;34m(\u001b[0m\u001b[0mscores\u001b[0m\u001b[0;34m.\u001b[0m\u001b[0mhistory\u001b[0m\u001b[0;34m[\u001b[0m\u001b[0;34m'episode_reward'\u001b[0m\u001b[0;34m]\u001b[0m\u001b[0;34m)\u001b[0m\u001b[0;34m)\u001b[0m\u001b[0;34m)\u001b[0m\u001b[0;34m\u001b[0m\u001b[0;34m\u001b[0m\u001b[0m\n",
      "\u001b[0;32m<ipython-input-4-db5921de96b4>\u001b[0m in \u001b[0;36mjuega\u001b[0;34m(self, ver)\u001b[0m\n\u001b[1;32m     37\u001b[0m \u001b[0;34m\u001b[0m\u001b[0m\n\u001b[1;32m     38\u001b[0m     \u001b[0;32mdef\u001b[0m \u001b[0mjuega\u001b[0m\u001b[0;34m(\u001b[0m\u001b[0mself\u001b[0m\u001b[0;34m,\u001b[0m \u001b[0mver\u001b[0m\u001b[0;34m)\u001b[0m\u001b[0;34m:\u001b[0m\u001b[0;34m\u001b[0m\u001b[0;34m\u001b[0m\u001b[0m\n\u001b[0;32m---> 39\u001b[0;31m         \u001b[0;32mreturn\u001b[0m \u001b[0mself\u001b[0m\u001b[0;34m.\u001b[0m\u001b[0msarsa\u001b[0m\u001b[0;34m.\u001b[0m\u001b[0mtest\u001b[0m\u001b[0;34m(\u001b[0m\u001b[0mself\u001b[0m\u001b[0;34m.\u001b[0m\u001b[0mentorno\u001b[0m\u001b[0;34m,\u001b[0m \u001b[0mnb_episodes\u001b[0m\u001b[0;34m=\u001b[0m\u001b[0mself\u001b[0m\u001b[0;34m.\u001b[0m\u001b[0mepisodios\u001b[0m\u001b[0;34m,\u001b[0m \u001b[0mvisualize\u001b[0m\u001b[0;34m=\u001b[0m\u001b[0mver\u001b[0m\u001b[0;34m)\u001b[0m\u001b[0;34m\u001b[0m\u001b[0;34m\u001b[0m\u001b[0m\n\u001b[0m",
      "\u001b[0;31mAttributeError\u001b[0m: 'function' object has no attribute 'test'"
     ]
    }
   ],
   "source": [
    "stats=agente.juega(False)\n",
    "print('Recompensa media en 100 episodios:{}'.format(np.mean(scores.history['episode_reward'])))"
   ]
  },
  {
   "cell_type": "code",
   "execution_count": null,
   "metadata": {},
   "outputs": [],
   "source": [
    "agente.juega(True)"
   ]
  },
  {
   "cell_type": "code",
   "execution_count": null,
   "metadata": {},
   "outputs": [],
   "source": []
  }
 ],
 "metadata": {
  "kernelspec": {
   "display_name": "Python 3",
   "language": "python",
   "name": "python3"
  },
  "language_info": {
   "codemirror_mode": {
    "name": "ipython",
    "version": 3
   },
   "file_extension": ".py",
   "mimetype": "text/x-python",
   "name": "python",
   "nbconvert_exporter": "python",
   "pygments_lexer": "ipython3",
   "version": "3.7.6"
  }
 },
 "nbformat": 4,
 "nbformat_minor": 2
}
